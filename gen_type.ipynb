{
 "cells": [
  {
   "cell_type": "code",
   "execution_count": null,
   "id": "de25aa50",
   "metadata": {},
   "outputs": [],
   "source": [
    "def gen_type(year):\n",
    "    if year < 1928:\n",
    "        print(\"Your Generation is not registered\")\n",
    "    elif year <= 1945:\n",
    "        print(\"You are from the Silent Generation\")\n",
    "    elif year <=1980:\n",
    "        print(\"You are from Generation X\")\n",
    "    elif year <= 2009:\n",
    "        print(\"You are from Generation Z\")\n",
    "    else:\n",
    "        print(\"You are from Generation Alpha\")\n",
    "        "
   ]
  }
 ],
 "metadata": {
  "kernelspec": {
   "display_name": "Python 3 (ipykernel)",
   "language": "python",
   "name": "python3"
  },
  "language_info": {
   "codemirror_mode": {
    "name": "ipython",
    "version": 3
   },
   "file_extension": ".py",
   "mimetype": "text/x-python",
   "name": "python",
   "nbconvert_exporter": "python",
   "pygments_lexer": "ipython3",
   "version": "3.9.7"
  }
 },
 "nbformat": 4,
 "nbformat_minor": 5
}
